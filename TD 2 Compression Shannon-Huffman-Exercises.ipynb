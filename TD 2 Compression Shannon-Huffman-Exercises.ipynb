{
 "cells": [
  {
   "cell_type": "markdown",
   "metadata": {},
   "source": [
    "## A. The goal of this part is to implement the Huffman coding and how it can be enhanced to reach the optimal bound."
   ]
  },
  {
   "cell_type": "code",
   "execution_count": 3,
   "metadata": {
    "collapsed": true
   },
   "outputs": [],
   "source": [
    "from __future__ import division\n",
    "import numpy as np\n",
    "import scipy as sp\n",
    "import pylab as pl\n",
    "import scipy.signal as sg\n",
    "import matplotlib.pyplot as plt"
   ]
  },
  {
   "cell_type": "markdown",
   "metadata": {},
   "source": [
    "### The definition of the entropy: Given a probability vector on a finite space $\\Omega = \\{\\omega_1,\\ldots,\\omega_n\\}$ denoted by $p = (p_1,\\ldots,p_n)$. The entropy is the quantity defined by $H(p) = -\\sum_{i = 1}^n p_i \\log(p_i)$. It's a concave function which is positive since $p_i \\in [0,1]$ and thus $\\log(p_i) \\leq 0$."
   ]
  },
  {
   "cell_type": "code",
   "execution_count": 4,
   "metadata": {
    "collapsed": true
   },
   "outputs": [],
   "source": [
    "def ShannonEntropy(p):\n",
    "    return -np.sum(p*np.log2(np.maximum(p,1e-15)))"
   ]
  },
  {
   "cell_type": "code",
   "execution_count": 5,
   "metadata": {
    "collapsed": false
   },
   "outputs": [
    {
     "data": {
      "image/png": "[encoded data removed]",
      "text/plain": [
       "<matplotlib.figure.Figure at 0x7f930b3683c8>"
      ]
     },
     "metadata": {},
     "output_type": "display_data"
    }
   ],
   "source": [
    "n = 200\n",
    "x = np.linspace(1e-10,1,n)\n",
    "plt.title(\"Shannon entropy\")\n",
    "plt.plot(x,-x*np.log2(x))\n",
    "plt.show()"
   ]
  },
  {
   "cell_type": "markdown",
   "metadata": {},
   "source": [
    "## In what follows, we consider that the $\\omega_i$ are letters of some alphabet which have a frequency of appearance of $p_i$."
   ]
  },
  {
   "cell_type": "code",
   "execution_count": 27,
   "metadata": {
    "collapsed": false
   },
   "outputs": [
    {
     "name": "stdout",
     "output_type": "stream",
     "text": [
      "[0.28515625 0.71484375]\n",
      "Empirical p = 0.29\n"
     ]
    }
   ],
   "source": [
    "## Generate a random text according to the frequencies.\n",
    "n = 512; p = 0.3\n",
    "\n",
    "# =1 : 30% of the time\n",
    "# =2 : 70% of the time\n",
    "x = (np.random.rand(n) > p) + 1\n",
    "\n",
    "# Amount of 1 and amount of 2\n",
    "h = [np.sum(x == 1), np.sum(x == 2)]\n",
    "\n",
    "# Normalize\n",
    "h = h/np.sum(h)\n",
    "\n",
    "# Display\n",
    "print(h)\n",
    "print(\"Empirical p = %.2f\" %h[0])"
   ]
  },
  {
   "cell_type": "code",
   "execution_count": 28,
   "metadata": {
    "collapsed": false
   },
   "outputs": [
    {
     "name": "stdout",
     "output_type": "stream",
     "text": [
      "Entropy = 0.86\n"
     ]
    }
   ],
   "source": [
    "e = ShannonEntropy(h)\n",
    "print(\"Entropy = %.2f\" %e)"
   ]
  },
  {
   "cell_type": "code",
   "execution_count": 29,
   "metadata": {
    "collapsed": false
   },
   "outputs": [
    {
     "name": "stdout",
     "output_type": "stream",
     "text": [
      "2.1464393446710153\n"
     ]
    }
   ],
   "source": [
    "### Definition of the probability h\n",
    "h = [.1, .15, .4, .15, .2]\n",
    "print(ShannonEntropy(h))"
   ]
  },
  {
   "cell_type": "markdown",
   "metadata": {},
   "source": [
    "### We use a python library to represent a binary tree. We assume that the tree is coded in the following way, here is an example, $(a,((b,c),(d,e))$."
   ]
  },
  {
   "cell_type": "code",
   "execution_count": 54,
   "metadata": {
    "collapsed": false
   },
   "outputs": [
    {
     "data": {
      "image/png": "[encoded data removed]",
      "text/plain": [
       "<IPython.core.display.Image object>"
      ]
     },
     "execution_count": 54,
     "metadata": {},
     "output_type": "execute_result"
    }
   ],
   "source": [
    "## import ete3 using if you have conda: \n",
    "## conda install -c etetoolkit ete3\n",
    "## otherwise try: pip install ete3\n",
    "from ete3 import Tree, TreeStyle , NodeStyle, AttrFace, faces\n",
    "\n",
    "## Define the tree\n",
    "T = (\"a\",((\"b\",\"c\"),(\"d\",\"e\")))\n",
    "\n",
    "t = Tree(str(T)+\";\")\n",
    "\n",
    "ts = TreeStyle()\n",
    "ts.scale = 90\n",
    "ts.branch_vertical_margin = 50 # 10 pixels between adjacent branches\n",
    "ts.show_leaf_name = False #\n",
    "\n",
    "nstyle = NodeStyle()\n",
    "nstyle[\"shape\"] = \"square\"\n",
    "nstyle[\"size\"] = 20\n",
    "nstyle[\"fgcolor\"] = \"orange\"\n",
    "\n",
    "for n in t.traverse():\n",
    "    n.set_style(nstyle)\n",
    "\n",
    "for node in t.iter_leaves():\n",
    "    node.add_face(AttrFace(\"name\", fsize=20), column=0)  \n",
    "\n",
    "t.render(\"%%inline\", tree_style = ts)\n",
    "\n",
    "def CreateRenderableTree(T):    \n",
    "    t = Tree(str(T)+\";\")\n",
    "    for n in t.traverse():\n",
    "        n.set_style(nstyle)\n",
    "    for node in t.iter_leaves():\n",
    "        node.add_face(AttrFace(\"name\", fsize=20), column=0)          \n",
    "    return t\n",
    "\n",
    "t = CreateRenderableTree(T)\n",
    "t.render(\"%%inline\", tree_style = ts)\n"
   ]
  },
  {
   "cell_type": "markdown",
   "metadata": {},
   "source": [
    "### Q1. Write a function that generates the Huffman tree with the probability $h$ as input. Plot the tree with the function above. "
   ]
  },
  {
   "cell_type": "code",
   "execution_count": 62,
   "metadata": {
    "collapsed": false
   },
   "outputs": [
    {
     "data": {
      "image/png": "[encoded data removed]",
      "text/plain": [
       "<IPython.core.display.Image object>"
      ]
     },
     "execution_count": 62,
     "metadata": {},
     "output_type": "execute_result"
    }
   ],
   "source": [
    "## Create the tree as a list.\n",
    "def CreateTree(h):\n",
    "    return T\n",
    "\n",
    "T = (\"a\",((\"b\",\"c\"),(\"d\",\"e\")))\n",
    "t = CreateRenderableTree(T)\n",
    "t.render(\"%%inline\", tree_style = ts)"
   ]
  },
  {
   "cell_type": "markdown",
   "metadata": {},
   "source": [
    "### Q2. Write the function HuffmanGencode which computes the Huffman code of an element in $0,1,2,3,4$  and print it."
   ]
  },
  {
   "cell_type": "code",
   "execution_count": 9,
   "metadata": {
    "collapsed": true
   },
   "outputs": [],
   "source": [
    "def HuffmanGencode(T,codes,c):\n",
    "    codes = {}  ## dictionnary the key is a number and \n",
    "                ## the value is the code in 0,1.\n",
    "    return codes    "
   ]
  },
  {
   "cell_type": "markdown",
   "metadata": {},
   "source": [
    "### Q3. Write a function that generates a random sequence of numbers between $0$ and $4$ according to the probability $h$."
   ]
  },
  {
   "cell_type": "code",
   "execution_count": 10,
   "metadata": {
    "collapsed": true
   },
   "outputs": [],
   "source": [
    "def RandGen(p, number):\n",
    "    sample = []\n",
    "    return sample\n",
    "x = RandGen(h, 512)"
   ]
  },
  {
   "cell_type": "markdown",
   "metadata": {},
   "source": [
    "### Q4. Write a function which maps a random sequence as above into its Huffman code and test it."
   ]
  },
  {
   "cell_type": "code",
   "execution_count": null,
   "metadata": {
    "collapsed": true
   },
   "outputs": [],
   "source": [
    "def CodeHuffman(x,codes):\n",
    "    result = \"\"\n",
    "    return result"
   ]
  },
  {
   "cell_type": "code",
   "execution_count": null,
   "metadata": {
    "collapsed": true
   },
   "outputs": [],
   "source": [
    "code = CodeHuffman(x,codes)\n",
    "print(code)"
   ]
  },
  {
   "cell_type": "markdown",
   "metadata": {},
   "source": [
    "### Q5. Compare with the Shannon bound.\n",
    "### Q6. Write below a function that decodes the Huffman code and test it on a random sequence. Check that it is the inverse of the coding map."
   ]
  },
  {
   "cell_type": "code",
   "execution_count": null,
   "metadata": {
    "collapsed": true
   },
   "outputs": [],
   "source": [
    "def DecodeHuffman(code,T):\n",
    "    result = []\n",
    "    return np.asarray(result)"
   ]
  },
  {
   "cell_type": "markdown",
   "metadata": {},
   "source": [
    "## Block Huffman coding to reach better performances. \n",
    "### We consider a probability as below on an alphabet of two letters $a,b$.\n",
    "\n",
    "### Q7: Compute the entropy associated with this probability and generalize for an alphabet described by blocks of $k$ letters."
   ]
  },
  {
   "cell_type": "code",
   "execution_count": null,
   "metadata": {
    "collapsed": true
   },
   "outputs": [],
   "source": [
    "t = .12\n",
    "h = [t, 1-t]\n",
    "n = 20000\n",
    "x = (np.random.rand(n) > t) + 1"
   ]
  },
  {
   "cell_type": "markdown",
   "metadata": {},
   "source": [
    "### Q7bis. Compare the length of the Huffman code and the Shannon bound. How to explain the difference ? In order to improve the result, we use Huffman coding on blocks of length $k$. "
   ]
  },
  {
   "cell_type": "markdown",
   "metadata": {},
   "source": [
    "### Q8. Write a code that takes as input a sequence of length $k$ of letters and associate a binary code. Then, write a function that takes as inputs a random sequence its code by block of length $k$. We assume that the length is a multiple of $k$."
   ]
  },
  {
   "cell_type": "code",
   "execution_count": null,
   "metadata": {
    "collapsed": true
   },
   "outputs": [],
   "source": [
    "def CodeBlocks(x):\n",
    "    return 0\n",
    "def GenNewCode(x):\n",
    "    return 0"
   ]
  },
  {
   "cell_type": "markdown",
   "metadata": {},
   "source": [
    "### Q9. Write a function that gives the empirical probability of the message encoded by $k$-blocks."
   ]
  },
  {
   "cell_type": "code",
   "execution_count": null,
   "metadata": {
    "collapsed": true
   },
   "outputs": [],
   "source": [
    "def EstimateProbabilites(code,taille_blocs):\n",
    "    return 0"
   ]
  },
  {
   "cell_type": "markdown",
   "metadata": {},
   "source": [
    "### Q10. Given a random sequence generated from the probability $h$, plot the performance of the Huffman code (length of the code - Shannon bound) in terms of $k$ the block length. Comment."
   ]
  },
  {
   "cell_type": "markdown",
   "metadata": {},
   "source": [
    "# B. The goal of this part is to explore implementations of a FIR or an IIR."
   ]
  },
  {
   "cell_type": "markdown",
   "metadata": {},
   "source": [
    "## Q1. Implement an ideal low pass filter using Fourier transform in 1D:\n",
    "### Compute the inverse FFT of a low pass filter and cut it with a window that will be passed in argument. "
   ]
  },
  {
   "cell_type": "markdown",
   "metadata": {},
   "source": [
    "## Q2. Implement an IIR filter defined by its numerator which will be set to a  constant $b$ and its denominator which will be set to $1-az^{-1}$. \n",
    "### What can you say about the range of the parameter $a$ in order to obtain a stable filter. \n",
    "### Experimentally, determine the ranges of $a$ to get respectively a low-pass filter and a high-pass filter. Give a theoretical explanation."
   ]
  },
  {
   "cell_type": "markdown",
   "metadata": {},
   "source": [
    "## In the following, we are given an electrocardiogram. We plot it as a function of time and we "
   ]
  },
  {
   "cell_type": "code",
   "execution_count": 15,
   "metadata": {
    "collapsed": false
   },
   "outputs": [
    {
     "data": {
      "image/png": "[encoded data removed]",
      "text/plain": [
       "<Figure size 432x288 with 1 Axes>"
      ]
     },
     "metadata": {},
     "output_type": "display_data"
    },
    {
     "name": "stdout",
     "output_type": "stream",
     "text": [
      "('time min', 0.0)\n",
      "('time max', 299.9972222222222)\n"
     ]
    }
   ],
   "source": [
    "### load the data which is an electrocardiogram which is sampled at 360Hz\n",
    "ecg = sp.misc.electrocardiogram()\n",
    "### Different plots.\n",
    "fs = 360.0\n",
    "### Since it is sampled at 360Hz, recall that Hz is the number of cycle per second, then the\n",
    "### time is obtained as follows:\n",
    "time = np.arange(ecg.size) / fs\n",
    "### simple plot.\n",
    "plt.plot(time, ecg)\n",
    "plt.xlabel(\"time in s\")\n",
    "plt.ylabel(\"ECG in mV\")\n",
    "plt.xlim(9, 10.2)\n",
    "plt.ylim(-1, 1.5)\n",
    "plt.show()\n",
    "print(\"time min\", time[0])\n",
    "print(\"time max\", time[-1])"
   ]
  },
  {
   "cell_type": "code",
   "execution_count": 16,
   "metadata": {
    "collapsed": false
   },
   "outputs": [
    {
     "data": {
      "image/png": "[encoded data removed]",
      "text/plain": [
       "<Figure size 432x288 with 1 Axes>"
      ]
     },
     "metadata": {},
     "output_type": "display_data"
    }
   ],
   "source": [
    "### Use the scipy function to get the power spectrum of the signal.\n",
    "f, Pxx = sg.welch(ecg, fs=fs, nperseg=2048, scaling=\"spectrum\")\n",
    "plt.semilogy(f, Pxx)\n",
    "plt.xlabel(\"Frequency in Hz\")\n",
    "plt.ylabel(\"Power spectrum of the ECG in mV**2\")\n",
    "plt.xlim(f[[0, -1]])\n",
    "plt.show()"
   ]
  },
  {
   "cell_type": "markdown",
   "metadata": {},
   "source": [
    "### Q3. Estimate the number of heartbeats in the following electrocardiogram and estimate the mean value of the interval between two heartbeats. You can use the method of your choice. A possible method consists in using a band pass filter and then extract the maximum values of the filtered signal."
   ]
  },
  {
   "cell_type": "code",
   "execution_count": null,
   "metadata": {
    "collapsed": true
   },
   "outputs": [],
   "source": []
  }
 ],
 "metadata": {
  "kernelspec": {
   "display_name": "Python 3",
   "language": "python",
   "name": "python3"
  },
  "language_info": {
   "codemirror_mode": {
    "name": "ipython",
    "version": 3
   },
   "file_extension": ".py",
   "mimetype": "text/x-python",
   "name": "python",
   "nbconvert_exporter": "python",
   "pygments_lexer": "ipython3",
   "version": "3.5.3"
  }
 },
 "nbformat": 4,
 "nbformat_minor": 2
}
